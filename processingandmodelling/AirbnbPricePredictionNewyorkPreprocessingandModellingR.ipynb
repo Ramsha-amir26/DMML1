{
 "cells": [
  {
   "cell_type": "code",
   "execution_count": 1,
   "id": "f684085d",
   "metadata": {},
   "outputs": [
    {
     "name": "stderr",
     "output_type": "stream",
     "text": [
      "Installing package into 'C:/Users/ramsh/AppData/Local/R/win-library/4.3'\n",
      "(as 'lib' is unspecified)\n",
      "\n"
     ]
    },
    {
     "name": "stdout",
     "output_type": "stream",
     "text": [
      "package 'caret' successfully unpacked and MD5 sums checked\n",
      "\n",
      "The downloaded binary packages are in\n",
      "\tC:\\Users\\ramsh\\AppData\\Local\\Temp\\RtmpO6vZiy\\downloaded_packages\n"
     ]
    },
    {
     "name": "stderr",
     "output_type": "stream",
     "text": [
      "Warning message:\n",
      "\"package 'caret' was built under R version 4.3.3\"\n",
      "Loading required package: ggplot2\n",
      "\n",
      "Warning message:\n",
      "\"package 'ggplot2' was built under R version 4.3.3\"\n",
      "Loading required package: lattice\n",
      "\n"
     ]
    }
   ],
   "source": [
    "install.packages(\"caret\")\n",
    "library(caret)"
   ]
  },
  {
   "cell_type": "code",
   "execution_count": 2,
   "id": "fb4188a1",
   "metadata": {},
   "outputs": [],
   "source": [
    "data <- read.csv(\"listings_newyork.csv\")"
   ]
  },
  {
   "cell_type": "code",
   "execution_count": 3,
   "id": "9968fede",
   "metadata": {},
   "outputs": [
    {
     "data": {
      "text/html": [
       "<table class=\"dataframe\">\n",
       "<caption>A data.frame: 6 × 18</caption>\n",
       "<thead>\n",
       "\t<tr><th></th><th scope=col>id</th><th scope=col>name</th><th scope=col>host_id</th><th scope=col>host_name</th><th scope=col>neighbourhood_group</th><th scope=col>neighbourhood</th><th scope=col>latitude</th><th scope=col>longitude</th><th scope=col>room_type</th><th scope=col>price</th><th scope=col>minimum_nights</th><th scope=col>number_of_reviews</th><th scope=col>last_review</th><th scope=col>reviews_per_month</th><th scope=col>calculated_host_listings_count</th><th scope=col>availability_365</th><th scope=col>number_of_reviews_ltm</th><th scope=col>license</th></tr>\n",
       "\t<tr><th></th><th scope=col>&lt;dbl&gt;</th><th scope=col>&lt;chr&gt;</th><th scope=col>&lt;int&gt;</th><th scope=col>&lt;chr&gt;</th><th scope=col>&lt;chr&gt;</th><th scope=col>&lt;chr&gt;</th><th scope=col>&lt;dbl&gt;</th><th scope=col>&lt;dbl&gt;</th><th scope=col>&lt;chr&gt;</th><th scope=col>&lt;int&gt;</th><th scope=col>&lt;int&gt;</th><th scope=col>&lt;int&gt;</th><th scope=col>&lt;chr&gt;</th><th scope=col>&lt;dbl&gt;</th><th scope=col>&lt;int&gt;</th><th scope=col>&lt;int&gt;</th><th scope=col>&lt;int&gt;</th><th scope=col>&lt;chr&gt;</th></tr>\n",
       "</thead>\n",
       "<tbody>\n",
       "\t<tr><th scope=row>1</th><td>8.167834e+17</td><td>Cool studio 3 min from subway!                 </td><td> 47125955</td><td>Rebeca  </td><td>Queens   </td><td>Long Island City</td><td>40.76133</td><td>-73.92676</td><td>Entire home/apt</td><td>110</td><td>30</td><td>9</td><td>2023-09-25</td><td>0.96</td><td>  2</td><td>363</td><td>9</td><td></td></tr>\n",
       "\t<tr><th scope=row>2</th><td>8.686040e+06</td><td>LARGE MANHATTAN ONE BEDROOM                    </td><td> 45608786</td><td>Virginia</td><td>Manhattan</td><td>Inwood          </td><td>40.85999</td><td>-73.92850</td><td>Entire home/apt</td><td> NA</td><td>30</td><td>5</td><td>2015-11-22</td><td>0.05</td><td>  1</td><td>  0</td><td>0</td><td></td></tr>\n",
       "\t<tr><th scope=row>3</th><td>1.242678e+07</td><td>TH BRKLYN                                      </td><td>  7963317</td><td>Rob     </td><td>Brooklyn </td><td>Boerum Hill     </td><td>40.68834</td><td>-73.98601</td><td>Private room   </td><td> NA</td><td>30</td><td>0</td><td>          </td><td>  NA</td><td>  1</td><td>  0</td><td>0</td><td></td></tr>\n",
       "\t<tr><th scope=row>4</th><td>2.267152e+07</td><td>55 washington                                  </td><td>  3428456</td><td>Yoon    </td><td>Brooklyn </td><td>DUMBO           </td><td>40.70149</td><td>-73.98886</td><td>Private room   </td><td> NA</td><td>30</td><td>0</td><td>          </td><td>  NA</td><td>  1</td><td>  0</td><td>0</td><td></td></tr>\n",
       "\t<tr><th scope=row>5</th><td>3.577696e+07</td><td>luxury apt in long lsland city \n",
       "1min to subway</td><td>221012726</td><td>Lyn     </td><td>Queens   </td><td>Long Island City</td><td>40.74901</td><td>-73.93898</td><td>Private room   </td><td> NA</td><td>30</td><td>1</td><td>2019-07-31</td><td>0.02</td><td>  1</td><td>  0</td><td>0</td><td></td></tr>\n",
       "\t<tr><th scope=row>6</th><td>5.233178e+07</td><td>Queen Bedroom A w/Private Bathroom in #608     </td><td>305240193</td><td>June    </td><td>Manhattan</td><td>Harlem          </td><td>40.80485</td><td>-73.94918</td><td>Private room   </td><td> NA</td><td>30</td><td>0</td><td>          </td><td>  NA</td><td>320</td><td>189</td><td>0</td><td></td></tr>\n",
       "</tbody>\n",
       "</table>\n"
      ],
      "text/latex": [
       "A data.frame: 6 × 18\n",
       "\\begin{tabular}{r|llllllllllllllllll}\n",
       "  & id & name & host\\_id & host\\_name & neighbourhood\\_group & neighbourhood & latitude & longitude & room\\_type & price & minimum\\_nights & number\\_of\\_reviews & last\\_review & reviews\\_per\\_month & calculated\\_host\\_listings\\_count & availability\\_365 & number\\_of\\_reviews\\_ltm & license\\\\\n",
       "  & <dbl> & <chr> & <int> & <chr> & <chr> & <chr> & <dbl> & <dbl> & <chr> & <int> & <int> & <int> & <chr> & <dbl> & <int> & <int> & <int> & <chr>\\\\\n",
       "\\hline\n",
       "\t1 & 8.167834e+17 & Cool studio 3 min from subway!                  &  47125955 & Rebeca   & Queens    & Long Island City & 40.76133 & -73.92676 & Entire home/apt & 110 & 30 & 9 & 2023-09-25 & 0.96 &   2 & 363 & 9 & \\\\\n",
       "\t2 & 8.686040e+06 & LARGE MANHATTAN ONE BEDROOM                     &  45608786 & Virginia & Manhattan & Inwood           & 40.85999 & -73.92850 & Entire home/apt &  NA & 30 & 5 & 2015-11-22 & 0.05 &   1 &   0 & 0 & \\\\\n",
       "\t3 & 1.242678e+07 & TH BRKLYN                                       &   7963317 & Rob      & Brooklyn  & Boerum Hill      & 40.68834 & -73.98601 & Private room    &  NA & 30 & 0 &            &   NA &   1 &   0 & 0 & \\\\\n",
       "\t4 & 2.267152e+07 & 55 washington                                   &   3428456 & Yoon     & Brooklyn  & DUMBO            & 40.70149 & -73.98886 & Private room    &  NA & 30 & 0 &            &   NA &   1 &   0 & 0 & \\\\\n",
       "\t5 & 3.577696e+07 & luxury apt in long lsland city \n",
       "1min to subway & 221012726 & Lyn      & Queens    & Long Island City & 40.74901 & -73.93898 & Private room    &  NA & 30 & 1 & 2019-07-31 & 0.02 &   1 &   0 & 0 & \\\\\n",
       "\t6 & 5.233178e+07 & Queen Bedroom A w/Private Bathroom in \\#608      & 305240193 & June     & Manhattan & Harlem           & 40.80485 & -73.94918 & Private room    &  NA & 30 & 0 &            &   NA & 320 & 189 & 0 & \\\\\n",
       "\\end{tabular}\n"
      ],
      "text/markdown": [
       "\n",
       "A data.frame: 6 × 18\n",
       "\n",
       "| <!--/--> | id &lt;dbl&gt; | name &lt;chr&gt; | host_id &lt;int&gt; | host_name &lt;chr&gt; | neighbourhood_group &lt;chr&gt; | neighbourhood &lt;chr&gt; | latitude &lt;dbl&gt; | longitude &lt;dbl&gt; | room_type &lt;chr&gt; | price &lt;int&gt; | minimum_nights &lt;int&gt; | number_of_reviews &lt;int&gt; | last_review &lt;chr&gt; | reviews_per_month &lt;dbl&gt; | calculated_host_listings_count &lt;int&gt; | availability_365 &lt;int&gt; | number_of_reviews_ltm &lt;int&gt; | license &lt;chr&gt; |\n",
       "|---|---|---|---|---|---|---|---|---|---|---|---|---|---|---|---|---|---|---|\n",
       "| 1 | 8.167834e+17 | Cool studio 3 min from subway!                  |  47125955 | Rebeca   | Queens    | Long Island City | 40.76133 | -73.92676 | Entire home/apt | 110 | 30 | 9 | 2023-09-25 | 0.96 |   2 | 363 | 9 | <!----> |\n",
       "| 2 | 8.686040e+06 | LARGE MANHATTAN ONE BEDROOM                     |  45608786 | Virginia | Manhattan | Inwood           | 40.85999 | -73.92850 | Entire home/apt |  NA | 30 | 5 | 2015-11-22 | 0.05 |   1 |   0 | 0 | <!----> |\n",
       "| 3 | 1.242678e+07 | TH BRKLYN                                       |   7963317 | Rob      | Brooklyn  | Boerum Hill      | 40.68834 | -73.98601 | Private room    |  NA | 30 | 0 | <!----> |   NA |   1 |   0 | 0 | <!----> |\n",
       "| 4 | 2.267152e+07 | 55 washington                                   |   3428456 | Yoon     | Brooklyn  | DUMBO            | 40.70149 | -73.98886 | Private room    |  NA | 30 | 0 | <!----> |   NA |   1 |   0 | 0 | <!----> |\n",
       "| 5 | 3.577696e+07 | luxury apt in long lsland city \n",
       "1min to subway | 221012726 | Lyn      | Queens    | Long Island City | 40.74901 | -73.93898 | Private room    |  NA | 30 | 1 | 2019-07-31 | 0.02 |   1 |   0 | 0 | <!----> |\n",
       "| 6 | 5.233178e+07 | Queen Bedroom A w/Private Bathroom in #608      | 305240193 | June     | Manhattan | Harlem           | 40.80485 | -73.94918 | Private room    |  NA | 30 | 0 | <!----> |   NA | 320 | 189 | 0 | <!----> |\n",
       "\n"
      ],
      "text/plain": [
       "  id           name                                            host_id  \n",
       "1 8.167834e+17 Cool studio 3 min from subway!                   47125955\n",
       "2 8.686040e+06 LARGE MANHATTAN ONE BEDROOM                      45608786\n",
       "3 1.242678e+07 TH BRKLYN                                         7963317\n",
       "4 2.267152e+07 55 washington                                     3428456\n",
       "5 3.577696e+07 luxury apt in long lsland city \\n1min to subway 221012726\n",
       "6 5.233178e+07 Queen Bedroom A w/Private Bathroom in #608      305240193\n",
       "  host_name neighbourhood_group neighbourhood    latitude longitude\n",
       "1 Rebeca    Queens              Long Island City 40.76133 -73.92676\n",
       "2 Virginia  Manhattan           Inwood           40.85999 -73.92850\n",
       "3 Rob       Brooklyn            Boerum Hill      40.68834 -73.98601\n",
       "4 Yoon      Brooklyn            DUMBO            40.70149 -73.98886\n",
       "5 Lyn       Queens              Long Island City 40.74901 -73.93898\n",
       "6 June      Manhattan           Harlem           40.80485 -73.94918\n",
       "  room_type       price minimum_nights number_of_reviews last_review\n",
       "1 Entire home/apt 110   30             9                 2023-09-25 \n",
       "2 Entire home/apt  NA   30             5                 2015-11-22 \n",
       "3 Private room     NA   30             0                            \n",
       "4 Private room     NA   30             0                            \n",
       "5 Private room     NA   30             1                 2019-07-31 \n",
       "6 Private room     NA   30             0                            \n",
       "  reviews_per_month calculated_host_listings_count availability_365\n",
       "1 0.96                2                            363             \n",
       "2 0.05                1                              0             \n",
       "3   NA                1                              0             \n",
       "4   NA                1                              0             \n",
       "5 0.02                1                              0             \n",
       "6   NA              320                            189             \n",
       "  number_of_reviews_ltm license\n",
       "1 9                            \n",
       "2 0                            \n",
       "3 0                            \n",
       "4 0                            \n",
       "5 0                            \n",
       "6 0                            "
      ]
     },
     "metadata": {},
     "output_type": "display_data"
    }
   ],
   "source": [
    "head(data)"
   ]
  },
  {
   "cell_type": "code",
   "execution_count": 4,
   "id": "681244a4",
   "metadata": {},
   "outputs": [],
   "source": [
    "# Columns to drop\n",
    "columns_to_drop <- c('name', 'host_name', 'last_review', 'reviews_per_month', 'license', 'host_id')\n",
    "\n",
    "# Drop columns from the data frame\n",
    "data <- data[, setdiff(names(data), columns_to_drop)]"
   ]
  },
  {
   "cell_type": "code",
   "execution_count": 5,
   "id": "af37ed40",
   "metadata": {},
   "outputs": [],
   "source": [
    "# Handle missing values\n",
    "mean_price <- mean(data$price, na.rm = TRUE)\n",
    "data$price[is.na(data$price)] <- mean_price"
   ]
  },
  {
   "cell_type": "code",
   "execution_count": 6,
   "id": "a95b4dbd",
   "metadata": {},
   "outputs": [],
   "source": [
    "# Columns to drop\n",
    "columns_to_drop <- c('name', 'host_name', 'last_review', 'reviews_per_month', 'license', 'host_id')\n",
    "\n",
    "# Drop columns from the data frame\n",
    "data <- data[, setdiff(names(data), columns_to_drop)]\n"
   ]
  },
  {
   "cell_type": "code",
   "execution_count": 7,
   "id": "17ba0179",
   "metadata": {},
   "outputs": [
    {
     "data": {
      "text/html": [
       "<table class=\"dataframe\">\n",
       "<caption>A data.frame: 6 × 12</caption>\n",
       "<thead>\n",
       "\t<tr><th></th><th scope=col>id</th><th scope=col>neighbourhood_group</th><th scope=col>neighbourhood</th><th scope=col>latitude</th><th scope=col>longitude</th><th scope=col>room_type</th><th scope=col>price</th><th scope=col>minimum_nights</th><th scope=col>number_of_reviews</th><th scope=col>calculated_host_listings_count</th><th scope=col>availability_365</th><th scope=col>number_of_reviews_ltm</th></tr>\n",
       "\t<tr><th></th><th scope=col>&lt;dbl&gt;</th><th scope=col>&lt;chr&gt;</th><th scope=col>&lt;chr&gt;</th><th scope=col>&lt;dbl&gt;</th><th scope=col>&lt;dbl&gt;</th><th scope=col>&lt;chr&gt;</th><th scope=col>&lt;dbl&gt;</th><th scope=col>&lt;int&gt;</th><th scope=col>&lt;int&gt;</th><th scope=col>&lt;int&gt;</th><th scope=col>&lt;int&gt;</th><th scope=col>&lt;int&gt;</th></tr>\n",
       "</thead>\n",
       "<tbody>\n",
       "\t<tr><th scope=row>1</th><td>8.167834e+17</td><td>Queens   </td><td>Long Island City</td><td>40.76133</td><td>-73.92676</td><td>Entire home/apt</td><td>110.0000</td><td>30</td><td>9</td><td>  2</td><td>363</td><td>9</td></tr>\n",
       "\t<tr><th scope=row>2</th><td>8.686040e+06</td><td>Manhattan</td><td>Inwood          </td><td>40.85999</td><td>-73.92850</td><td>Entire home/apt</td><td>205.2729</td><td>30</td><td>5</td><td>  1</td><td>  0</td><td>0</td></tr>\n",
       "\t<tr><th scope=row>3</th><td>1.242678e+07</td><td>Brooklyn </td><td>Boerum Hill     </td><td>40.68834</td><td>-73.98601</td><td>Private room   </td><td>205.2729</td><td>30</td><td>0</td><td>  1</td><td>  0</td><td>0</td></tr>\n",
       "\t<tr><th scope=row>4</th><td>2.267152e+07</td><td>Brooklyn </td><td>DUMBO           </td><td>40.70149</td><td>-73.98886</td><td>Private room   </td><td>205.2729</td><td>30</td><td>0</td><td>  1</td><td>  0</td><td>0</td></tr>\n",
       "\t<tr><th scope=row>5</th><td>3.577696e+07</td><td>Queens   </td><td>Long Island City</td><td>40.74901</td><td>-73.93898</td><td>Private room   </td><td>205.2729</td><td>30</td><td>1</td><td>  1</td><td>  0</td><td>0</td></tr>\n",
       "\t<tr><th scope=row>6</th><td>5.233178e+07</td><td>Manhattan</td><td>Harlem          </td><td>40.80485</td><td>-73.94918</td><td>Private room   </td><td>205.2729</td><td>30</td><td>0</td><td>320</td><td>189</td><td>0</td></tr>\n",
       "</tbody>\n",
       "</table>\n"
      ],
      "text/latex": [
       "A data.frame: 6 × 12\n",
       "\\begin{tabular}{r|llllllllllll}\n",
       "  & id & neighbourhood\\_group & neighbourhood & latitude & longitude & room\\_type & price & minimum\\_nights & number\\_of\\_reviews & calculated\\_host\\_listings\\_count & availability\\_365 & number\\_of\\_reviews\\_ltm\\\\\n",
       "  & <dbl> & <chr> & <chr> & <dbl> & <dbl> & <chr> & <dbl> & <int> & <int> & <int> & <int> & <int>\\\\\n",
       "\\hline\n",
       "\t1 & 8.167834e+17 & Queens    & Long Island City & 40.76133 & -73.92676 & Entire home/apt & 110.0000 & 30 & 9 &   2 & 363 & 9\\\\\n",
       "\t2 & 8.686040e+06 & Manhattan & Inwood           & 40.85999 & -73.92850 & Entire home/apt & 205.2729 & 30 & 5 &   1 &   0 & 0\\\\\n",
       "\t3 & 1.242678e+07 & Brooklyn  & Boerum Hill      & 40.68834 & -73.98601 & Private room    & 205.2729 & 30 & 0 &   1 &   0 & 0\\\\\n",
       "\t4 & 2.267152e+07 & Brooklyn  & DUMBO            & 40.70149 & -73.98886 & Private room    & 205.2729 & 30 & 0 &   1 &   0 & 0\\\\\n",
       "\t5 & 3.577696e+07 & Queens    & Long Island City & 40.74901 & -73.93898 & Private room    & 205.2729 & 30 & 1 &   1 &   0 & 0\\\\\n",
       "\t6 & 5.233178e+07 & Manhattan & Harlem           & 40.80485 & -73.94918 & Private room    & 205.2729 & 30 & 0 & 320 & 189 & 0\\\\\n",
       "\\end{tabular}\n"
      ],
      "text/markdown": [
       "\n",
       "A data.frame: 6 × 12\n",
       "\n",
       "| <!--/--> | id &lt;dbl&gt; | neighbourhood_group &lt;chr&gt; | neighbourhood &lt;chr&gt; | latitude &lt;dbl&gt; | longitude &lt;dbl&gt; | room_type &lt;chr&gt; | price &lt;dbl&gt; | minimum_nights &lt;int&gt; | number_of_reviews &lt;int&gt; | calculated_host_listings_count &lt;int&gt; | availability_365 &lt;int&gt; | number_of_reviews_ltm &lt;int&gt; |\n",
       "|---|---|---|---|---|---|---|---|---|---|---|---|---|\n",
       "| 1 | 8.167834e+17 | Queens    | Long Island City | 40.76133 | -73.92676 | Entire home/apt | 110.0000 | 30 | 9 |   2 | 363 | 9 |\n",
       "| 2 | 8.686040e+06 | Manhattan | Inwood           | 40.85999 | -73.92850 | Entire home/apt | 205.2729 | 30 | 5 |   1 |   0 | 0 |\n",
       "| 3 | 1.242678e+07 | Brooklyn  | Boerum Hill      | 40.68834 | -73.98601 | Private room    | 205.2729 | 30 | 0 |   1 |   0 | 0 |\n",
       "| 4 | 2.267152e+07 | Brooklyn  | DUMBO            | 40.70149 | -73.98886 | Private room    | 205.2729 | 30 | 0 |   1 |   0 | 0 |\n",
       "| 5 | 3.577696e+07 | Queens    | Long Island City | 40.74901 | -73.93898 | Private room    | 205.2729 | 30 | 1 |   1 |   0 | 0 |\n",
       "| 6 | 5.233178e+07 | Manhattan | Harlem           | 40.80485 | -73.94918 | Private room    | 205.2729 | 30 | 0 | 320 | 189 | 0 |\n",
       "\n"
      ],
      "text/plain": [
       "  id           neighbourhood_group neighbourhood    latitude longitude\n",
       "1 8.167834e+17 Queens              Long Island City 40.76133 -73.92676\n",
       "2 8.686040e+06 Manhattan           Inwood           40.85999 -73.92850\n",
       "3 1.242678e+07 Brooklyn            Boerum Hill      40.68834 -73.98601\n",
       "4 2.267152e+07 Brooklyn            DUMBO            40.70149 -73.98886\n",
       "5 3.577696e+07 Queens              Long Island City 40.74901 -73.93898\n",
       "6 5.233178e+07 Manhattan           Harlem           40.80485 -73.94918\n",
       "  room_type       price    minimum_nights number_of_reviews\n",
       "1 Entire home/apt 110.0000 30             9                \n",
       "2 Entire home/apt 205.2729 30             5                \n",
       "3 Private room    205.2729 30             0                \n",
       "4 Private room    205.2729 30             0                \n",
       "5 Private room    205.2729 30             1                \n",
       "6 Private room    205.2729 30             0                \n",
       "  calculated_host_listings_count availability_365 number_of_reviews_ltm\n",
       "1   2                            363              9                    \n",
       "2   1                              0              0                    \n",
       "3   1                              0              0                    \n",
       "4   1                              0              0                    \n",
       "5   1                              0              0                    \n",
       "6 320                            189              0                    "
      ]
     },
     "metadata": {},
     "output_type": "display_data"
    }
   ],
   "source": [
    "head(data)"
   ]
  },
  {
   "cell_type": "code",
   "execution_count": 8,
   "id": "46bf1f7a",
   "metadata": {},
   "outputs": [],
   "source": [
    "remove_outliers_iqr <- function(data, cols) {\n",
    "  for (col in cols) {\n",
    "    Q1 <- quantile(data[[col]], 0.25, na.rm = TRUE)\n",
    "    Q3 <- quantile(data[[col]], 0.75, na.rm = TRUE)\n",
    "    IQR <- Q3 - Q1\n",
    "    lower_bound <- Q1 - 1.5 * IQR\n",
    "    upper_bound <- Q3 + 1.5 * IQR\n",
    "    data <- data[data[[col]] >= lower_bound & data[[col]] <= upper_bound, ]\n",
    "  }\n",
    "  return(data)\n",
    "}"
   ]
  },
  {
   "cell_type": "code",
   "execution_count": 9,
   "id": "542f0457",
   "metadata": {},
   "outputs": [],
   "source": [
    "numerical_cols <- c('latitude', 'longitude', 'price', 'minimum_nights', \n",
    "                    'number_of_reviews', 'calculated_host_listings_count', \n",
    "                    'availability_365', 'number_of_reviews_ltm')\n",
    "\n",
    "data_cleaned <- remove_outliers_iqr(data, numerical_cols)"
   ]
  },
  {
   "cell_type": "code",
   "execution_count": 10,
   "id": "a5bda7da",
   "metadata": {},
   "outputs": [],
   "source": [
    "# Label encode categorical variables\n",
    "cols <- c(\"neighbourhood_group\", \"neighbourhood\", \"room_type\")\n",
    "\n",
    "label_encode <- function(df, columns_to_encode) {\n",
    "  for (column in columns_to_encode) {\n",
    "    df[[column]] <- as.numeric(factor(df[[column]]))\n",
    "  }\n",
    "  return(df)\n",
    "}"
   ]
  },
  {
   "cell_type": "code",
   "execution_count": 11,
   "id": "5864a351",
   "metadata": {},
   "outputs": [],
   "source": [
    "data_cleaned <- label_encode(data_cleaned, cols)"
   ]
  },
  {
   "cell_type": "code",
   "execution_count": 12,
   "id": "c62e67e0",
   "metadata": {},
   "outputs": [
    {
     "name": "stdout",
     "output_type": "stream",
     "text": [
      "named numeric(0)\n"
     ]
    }
   ],
   "source": [
    "# Check for missing values in the entire dataset\n",
    "missing_values <- colSums(is.na(data))\n",
    "\n",
    "# Print columns with missing values\n",
    "print(missing_values[missing_values > 0])\n"
   ]
  },
  {
   "cell_type": "code",
   "execution_count": 13,
   "id": "ff0d562b",
   "metadata": {},
   "outputs": [
    {
     "name": "stderr",
     "output_type": "stream",
     "text": [
      "Warning message in cor(data_cleaned$price, x):\n",
      "\"the standard deviation is zero\"\n"
     ]
    },
    {
     "name": "stdout",
     "output_type": "stream",
     "text": [
      "                      latitude              number_of_reviews \n",
      "                    0.01835642                    -0.01032611 \n",
      "         number_of_reviews_ltm                      longitude \n",
      "                   -0.25339785                    -0.25929166 \n",
      "calculated_host_listings_count               availability_365 \n",
      "                   -0.38723367                    -0.51967533 \n"
     ]
    }
   ],
   "source": [
    "# Correlation with other numeric variables\n",
    "numeric_cols <- c('latitude', 'longitude', 'minimum_nights', 'number_of_reviews', \n",
    "                   'calculated_host_listings_count', 'availability_365', 'number_of_reviews_ltm')\n",
    "\n",
    "correlation <- sapply(data_cleaned[, numeric_cols], function(x) cor(data_cleaned$price, x))\n",
    "correlation <- sort(correlation, decreasing = TRUE)\n",
    "print(correlation)"
   ]
  },
  {
   "cell_type": "code",
   "execution_count": 15,
   "id": "e7c9d3b5",
   "metadata": {},
   "outputs": [
    {
     "name": "stderr",
     "output_type": "stream",
     "text": [
      "Warning message:\n",
      "\"package 'dplyr' was built under R version 4.3.3\"\n",
      "\n",
      "Attaching package: 'dplyr'\n",
      "\n",
      "\n",
      "The following objects are masked from 'package:stats':\n",
      "\n",
      "    filter, lag\n",
      "\n",
      "\n",
      "The following objects are masked from 'package:base':\n",
      "\n",
      "    intersect, setdiff, setequal, union\n",
      "\n",
      "\n",
      "Warning message in preProcess.default(X_train, method = c(\"center\", \"scale\")):\n",
      "\"These variables have zero variances: minimum_nights\"\n"
     ]
    },
    {
     "name": "stdout",
     "output_type": "stream",
     "text": [
      "Mean Squared Error: 1279.845 \n",
      "Root Mean Squared Error: 35.77492 \n",
      "R-squared (R2): 0.5732106 \n"
     ]
    }
   ],
   "source": [
    "library(dplyr)\n",
    "\n",
    "X <- data_cleaned %>%\n",
    "  select(-price, -number_of_reviews, -number_of_reviews_ltm, -neighbourhood)\n",
    "y <- data_cleaned$price\n",
    "\n",
    "# Split the data into training and testing sets\n",
    "set.seed(42)  # Set seed for reproducibility\n",
    "train_index <- sample(1:nrow(data_cleaned), 0.8 * nrow(data_cleaned))  # 80% training data\n",
    "X_train <- X[train_index, ]\n",
    "X_test <- X[-train_index, ]\n",
    "y_train <- y[train_index]\n",
    "\n",
    "\n",
    "# Split the data into features (X) and target variable (y)\n",
    "X <- data_cleaned %>%\n",
    "  select(-price, -number_of_reviews, -number_of_reviews_ltm, -neighbourhood)\n",
    "y <- data_cleaned$price\n",
    "\n",
    "# Split the data into training and testing sets\n",
    "set.seed(42)  # Set seed for reproducibility\n",
    "train_index <- sample(1:nrow(data_cleaned), 0.7 * nrow(data_cleaned))  # 70% training data\n",
    "X_train <- X[train_index, ]\n",
    "X_test <- X[-train_index, ]\n",
    "y_train <- y[train_index]\n",
    "y_test <- y[-train_index]\n",
    "\n",
    "# Initialize the StandardScaler\n",
    "scaler <- preProcess(X_train, method = c(\"center\", \"scale\"))\n",
    "\n",
    "# Fit and transform the training data\n",
    "X_train_scaled <- predict(scaler, X_train)\n",
    "\n",
    "# Transform the testing data using the same scaler\n",
    "X_test_scaled <- predict(scaler, X_test)\n",
    "\n",
    "# Initialize and train the KNN regressor\n",
    "k <- 9  # Number of neighbors\n",
    "knn_regressor <- train(\n",
    "  x = X_train_scaled,\n",
    "  y = y_train,\n",
    "  method = \"knn\",\n",
    "  trControl = trainControl(method = \"cv\", number = 5),\n",
    "  tuneGrid = data.frame(k = k)\n",
    ")\n",
    "\n",
    "# Make predictions on the testing set\n",
    "y_pred <- predict(knn_regressor, newdata = X_test_scaled)\n",
    "\n",
    "# Evaluate the model using Mean Squared Error (MSE)\n",
    "mse <- mean((y_test - y_pred)^2)\n",
    "cat(\"Mean Squared Error:\", mse, \"\\n\")\n",
    "\n",
    "# Calculate Root Mean Squared Error (RMSE)\n",
    "rmse <- sqrt(mse)\n",
    "cat(\"Root Mean Squared Error:\", rmse, \"\\n\")\n",
    "\n",
    "# Calculate R-squared (R2)\n",
    "r2 <- 1 - (sum((y_test - y_pred)^2) / sum((y_test - mean(y_test))^2))\n",
    "cat(\"R-squared (R2):\", r2, \"\\n\")"
   ]
  },
  {
   "cell_type": "code",
   "execution_count": 16,
   "id": "7c6e141a",
   "metadata": {},
   "outputs": [
    {
     "data": {
      "image/png": "[encoded data removed]",
      "text/plain": [
       "plot without title"
      ]
     },
     "metadata": {
      "image/png": {
       "height": 420,
       "width": 420
      }
     },
     "output_type": "display_data"
    }
   ],
   "source": [
    "library(ggplot2)\n",
    "\n",
    "\n",
    "df <- data.frame(Actual = y_test, Predicted = y_pred)\n",
    "\n",
    "ggplot(df, aes(x = Actual, y = Predicted)) +\n",
    "  geom_point(color = \"blue\", alpha = 0.5) +  # Scatter plot points\n",
    "  geom_abline(intercept = 0, slope = 1, linetype = \"dashed\", color = \"red\") +  # Diagonal line\n",
    "  labs(title = \"Actual vs. Predicted Prices\", x = \"Actual Price\", y = \"Predicted Price\") +  # Labels\n",
    "  theme_minimal() "
   ]
  }
 ],
 "metadata": {
  "kernelspec": {
   "display_name": "R",
   "language": "R",
   "name": "ir"
  },
  "language_info": {
   "codemirror_mode": "r",
   "file_extension": ".r",
   "mimetype": "text/x-r-source",
   "name": "R",
   "pygments_lexer": "r",
   "version": "4.3.2"
  }
 },
 "nbformat": 4,
 "nbformat_minor": 5
}
